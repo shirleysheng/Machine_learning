{
  "nbformat": 4,
  "nbformat_minor": 0,
  "metadata": {
    "kernelspec": {
      "display_name": "Python 3",
      "language": "python",
      "name": "python3"
    },
    "language_info": {
      "codemirror_mode": {
        "name": "ipython",
        "version": 3
      },
      "file_extension": ".py",
      "mimetype": "text/x-python",
      "name": "python",
      "nbconvert_exporter": "python",
      "pygments_lexer": "ipython3",
      "version": "3.7.3"
    },
    "colab": {
      "name": " descriptive_statistics.ipynb",
      "provenance": [],
      "collapsed_sections": [],
      "machine_shape": "hm",
      "include_colab_link": true
    }
  },
  "cells": [
    {
      "cell_type": "markdown",
      "metadata": {
        "id": "view-in-github",
        "colab_type": "text"
      },
      "source": [
        "<a href=\"https://colab.research.google.com/github/shirleysheng/Machine_learning/blob/master/descriptive_statistics.ipynb\" target=\"_parent\"><img src=\"https://colab.research.google.com/assets/colab-badge.svg\" alt=\"Open In Colab\"/></a>"
      ]
    },
    {
      "cell_type": "markdown",
      "metadata": {
        "id": "C_Z_Bb1pPgeA",
        "colab_type": "text"
      },
      "source": [
        "# Data Analysis\n",
        "\n",
        "Use the provided Fannie Mae Acquisition and Performance data and\n",
        "- Describe the descriptive statistics involved for column each dataset,\n",
        "- Statistics between acquisition and performance,\n",
        "- Statistics on `null` values per column.\n",
        "\n",
        "Include all graphs and code in a `zip` file to be submitted."
      ]
    },
    {
      "cell_type": "code",
      "metadata": {
        "id": "Mcc7CLB6PgeC",
        "colab_type": "code",
        "outputId": "892d4a24-ca82-4818-a3ed-0886c10641b7",
        "colab": {
          "base_uri": "https://localhost:8080/",
          "height": 204
        }
      },
      "source": [
        "!wget https://labs-fannie-data.s3.amazonaws.com/Acquisition/Acquisition_2000Q1.txt"
      ],
      "execution_count": 0,
      "outputs": [
        {
          "output_type": "stream",
          "text": [
            "--2019-12-12 00:34:28--  https://labs-fannie-data.s3.amazonaws.com/Acquisition/Acquisition_2000Q1.txt\n",
            "Resolving labs-fannie-data.s3.amazonaws.com (labs-fannie-data.s3.amazonaws.com)... 52.216.25.156\n",
            "Connecting to labs-fannie-data.s3.amazonaws.com (labs-fannie-data.s3.amazonaws.com)|52.216.25.156|:443... connected.\n",
            "HTTP request sent, awaiting response... 200 OK\n",
            "Length: 26908005 (26M) [text/plain]\n",
            "Saving to: ‘Acquisition_2000Q1.txt’\n",
            "\n",
            "Acquisition_2000Q1. 100%[===================>]  25.66M  9.47MB/s    in 2.7s    \n",
            "\n",
            "2019-12-12 00:34:32 (9.47 MB/s) - ‘Acquisition_2000Q1.txt’ saved [26908005/26908005]\n",
            "\n"
          ],
          "name": "stdout"
        }
      ]
    },
    {
      "cell_type": "code",
      "metadata": {
        "id": "MWLJZB5_bavh",
        "colab_type": "code",
        "outputId": "e6de6911-c6d9-4708-dbfc-4df4dbac5381",
        "colab": {
          "base_uri": "https://localhost:8080/",
          "height": 153
        }
      },
      "source": [
        "!wget https://labs-fannie-data.s3.amazonaws.com/Performance/Performance_2000Q1.txt"
      ],
      "execution_count": 0,
      "outputs": [
        {
          "output_type": "stream",
          "text": [
            "--2019-12-12 00:34:33--  https://labs-fannie-data.s3.amazonaws.com/Performance/Performance_2000Q1.txt\n",
            "Resolving labs-fannie-data.s3.amazonaws.com (labs-fannie-data.s3.amazonaws.com)... 52.216.133.211\n",
            "Connecting to labs-fannie-data.s3.amazonaws.com (labs-fannie-data.s3.amazonaws.com)|52.216.133.211|:443... connected.\n",
            "HTTP request sent, awaiting response... 200 OK\n",
            "Length: 788948280 (752M) [text/plain]\n",
            "Saving to: ‘Performance_2000Q1.txt’\n",
            "\n",
            "Performance_2000Q1.  55%[==========>         ] 415.47M  4.38MB/s    eta 33s    ^C\n"
          ],
          "name": "stdout"
        }
      ]
    },
    {
      "cell_type": "code",
      "metadata": {
        "id": "YNCqEtE8R-kz",
        "colab_type": "code",
        "colab": {}
      },
      "source": [
        "import pandas as pd\n",
        "import matplotlib.pyplot as plt"
      ],
      "execution_count": 0,
      "outputs": []
    },
    {
      "cell_type": "code",
      "metadata": {
        "id": "BLrVuiKcSeZi",
        "colab_type": "code",
        "colab": {}
      },
      "source": [
        "AcquisitionColumnNames = (\n",
        "    \"LOAN_ID\", \"ORIG_CHN\", \"Seller.Name\", \n",
        "    \"ORIG_RT\", \"ORIG_AMT\", \"ORIG_TRM\", \"ORIG_DTE\",\n",
        "    \"FRST_DTE\", \"OLTV\", \"OCLTV\", \"NUM_BO\", \n",
        "    \"DTI\", \"CSCORE_B\", \"FTHB_FLG\", \"PURPOSE\", \n",
        "    \"PROP_TYP\", \"NUM_UNIT\", \"OCC_STAT\", \"STATE\", \"ZIP_3\", \n",
        "    \"MI_PCT\", \"Product.Type\", \"CSCORE_C\", \"MI_TYPE\", \n",
        "    \"RELOCATION_FLG\"\n",
        ")\n",
        "\n",
        "PerformanceColumnNames = (\n",
        "    \"LOAN_ID\", \"Monthly.Rpt.Prd\", \"Servicer.Name\", \n",
        "    \"LAST_RT\", \"LAST_UPB\", \"Loan.Age\", \"Months.To.Legal.Mat\", \n",
        "    \"Adj.Month.To.Mat\", \"Maturity.Date\", \"MSA\", \n",
        "    \"Delq.Status\", \"MOD_FLAG\", \"Zero.Bal.Code\", \n",
        "    \"ZB_DTE\", \"LPI_DTE\", \"FCC_DTE\",\"DISP_DT\", \n",
        "    \"FCC_COST\", \"PP_COST\", \"AR_COST\", \"IE_COST\", \n",
        "    \"TAX_COST\", \"NS_PROCS\",\"CE_PROCS\", \"RMW_PROCS\", \n",
        "    \"O_PROCS\", \"NON_INT_UPB\", \"PRIN_FORG_UPB_FHFA\", \n",
        "    \"REPCH_FLAG\", \"PRIN_FORG_UPB_OTH\", \"TRANSFER_FLG\"\n",
        ")"
      ],
      "execution_count": 0,
      "outputs": []
    },
    {
      "cell_type": "code",
      "metadata": {
        "id": "VEL1cLLsPlBM",
        "colab_type": "code",
        "outputId": "a03713e9-c707-4331-8880-757778902924",
        "colab": {
          "base_uri": "https://localhost:8080/",
          "height": 71
        }
      },
      "source": [
        "Acquisition = pd.read_csv('Acquisition_2000Q1.txt',\n",
        "                          header=None,\n",
        "                          names=AcquisitionColumnNames,\n",
        "                          sep=\"|\")\n",
        "performance = pd.read_csv(\n",
        "        \"Performance_2000Q1.txt\",\n",
        "        names=PerformanceColumnNames,\n",
        "        header=None,\n",
        "        sep=\"|\")\n"
      ],
      "execution_count": 0,
      "outputs": [
        {
          "output_type": "stream",
          "text": [
            "/usr/local/lib/python3.6/dist-packages/IPython/core/interactiveshell.py:2718: DtypeWarning: Columns (14,15,16) have mixed types. Specify dtype option on import or set low_memory=False.\n",
            "  interactivity=interactivity, compiler=compiler, result=result)\n"
          ],
          "name": "stderr"
        }
      ]
    },
    {
      "cell_type": "code",
      "metadata": {
        "id": "raai09l8UYN4",
        "colab_type": "code",
        "colab": {}
      },
      "source": [
        "ac = Acquisition.apply(pd.to_numeric, errors='coerce')"
      ],
      "execution_count": 0,
      "outputs": []
    },
    {
      "cell_type": "code",
      "metadata": {
        "id": "Rk_c5fq6Wqhg",
        "colab_type": "code",
        "colab": {}
      },
      "source": [
        "ac = ac.dropna(axis=1, how='all') #Drop the columns where all elements are nan"
      ],
      "execution_count": 0,
      "outputs": []
    },
    {
      "cell_type": "code",
      "metadata": {
        "id": "cDRjgHm-CN0v",
        "colab_type": "code",
        "colab": {}
      },
      "source": [
        "per = performance.apply(pd.to_numeric, errors='coerce')\n",
        "per = per.dropna(axis=1, how='all')"
      ],
      "execution_count": 0,
      "outputs": []
    },
    {
      "cell_type": "code",
      "metadata": {
        "id": "nQOBcnUIPmdW",
        "colab_type": "code",
        "colab": {}
      },
      "source": [
        " def descriptive_stats(column):\n",
        "\n",
        "    print(f\"Getting Descriptive Statistics\")\n",
        "    print(f\"Column Name: '{column.name}'\")\n",
        "    fig = plt.hist(column)\n",
        "    plt.show()\n",
        "    print(f\"Mean Value: {column.mean()}\")\n",
        "    print(f\"STD  Value: {column.std()}\")\n",
        "    print(f\"Min  Value: {column.min()}\")\n",
        "    print(f\"Max  Value: {column.max()}\")\n"
      ],
      "execution_count": 0,
      "outputs": []
    },
    {
      "cell_type": "code",
      "metadata": {
        "id": "sOm3jhGyvp-P",
        "colab_type": "code",
        "outputId": "79f75af8-72ca-4066-f79e-a1724b3179ae",
        "colab": {
          "base_uri": "https://localhost:8080/",
          "height": 1000
        }
      },
      "source": [
        "for i in range(len(ac.columns)):\n",
        "  descriptive_stats(ac[ac.columns[i]])"
      ],
      "execution_count": 0,
      "outputs": [
        {
          "output_type": "stream",
          "text": [
            "Getting Descriptive Statistics\n",
            "Column Name: 'LOAN_ID'\n"
          ],
          "name": "stdout"
        },
        {
          "output_type": "display_data",
          "data": {
            "image/png": "[encoded data removed]",
            "text/plain": [
              "<Figure size 432x288 with 1 Axes>"
            ]
          },
          "metadata": {
            "tags": []
          }
        },
        {
          "output_type": "stream",
          "text": [
            "Mean Value: 550212146264.327\n",
            "STD  Value: 259565928874.27707\n",
            "Min  Value: 100007365142\n",
            "Max  Value: 999999117079\n",
            "Getting Descriptive Statistics\n",
            "Column Name: 'ORIG_RT'\n"
          ],
          "name": "stdout"
        },
        {
          "output_type": "display_data",
          "data": {
            "image/png": "[encoded data removed]",
            "text/plain": [
              "<Figure size 432x288 with 1 Axes>"
            ]
          },
          "metadata": {
            "tags": []
          }
        },
        {
          "output_type": "stream",
          "text": [
            "Mean Value: 8.00994994794682\n",
            "STD  Value: 0.45564701171376454\n",
            "Min  Value: 3.0\n",
            "Max  Value: 12.325\n",
            "Getting Descriptive Statistics\n",
            "Column Name: 'ORIG_AMT'\n"
          ],
          "name": "stdout"
        },
        {
          "output_type": "display_data",
          "data": {
            "image/png": "[encoded data removed]",
            "text/plain": [
              "<Figure size 432x288 with 1 Axes>"
            ]
          },
          "metadata": {
            "tags": []
          }
        },
        {
          "output_type": "stream",
          "text": [
            "Mean Value: 119903.06769341699\n",
            "STD  Value: 56474.70386490337\n",
            "Min  Value: 6000\n",
            "Max  Value: 486000\n",
            "Getting Descriptive Statistics\n",
            "Column Name: 'ORIG_TRM'\n"
          ],
          "name": "stdout"
        },
        {
          "output_type": "display_data",
          "data": {
            "image/png": "[encoded data removed]",
            "text/plain": [
              "<Figure size 432x288 with 1 Axes>"
            ]
          },
          "metadata": {
            "tags": []
          }
        },
        {
          "output_type": "stream",
          "text": [
            "Mean Value: 326.74510558487907\n",
            "STD  Value: 69.24689172170265\n",
            "Min  Value: 84\n",
            "Max  Value: 360\n",
            "Getting Descriptive Statistics\n",
            "Column Name: 'OLTV'\n"
          ],
          "name": "stdout"
        },
        {
          "output_type": "stream",
          "text": [
            "/usr/local/lib/python3.6/dist-packages/numpy/lib/histograms.py:839: RuntimeWarning: invalid value encountered in greater_equal\n",
            "  keep = (tmp_a >= first_edge)\n",
            "/usr/local/lib/python3.6/dist-packages/numpy/lib/histograms.py:840: RuntimeWarning: invalid value encountered in less_equal\n",
            "  keep &= (tmp_a <= last_edge)\n"
          ],
          "name": "stderr"
        },
        {
          "output_type": "display_data",
          "data": {
            "image/png": "[encoded data removed]",
            "text/plain": [
              "<Figure size 432x288 with 1 Axes>"
            ]
          },
          "metadata": {
            "tags": []
          }
        },
        {
          "output_type": "stream",
          "text": [
            "Mean Value: 76.43044466319103\n",
            "STD  Value: 16.321432152010026\n",
            "Min  Value: 4.0\n",
            "Max  Value: 97.0\n",
            "Getting Descriptive Statistics\n",
            "Column Name: 'OCLTV'\n"
          ],
          "name": "stdout"
        },
        {
          "output_type": "display_data",
          "data": {
            "image/png": "[encoded data removed]",
            "text/plain": [
              "<Figure size 432x288 with 1 Axes>"
            ]
          },
          "metadata": {
            "tags": []
          }
        },
        {
          "output_type": "stream",
          "text": [
            "Mean Value: 88.93156281920326\n",
            "STD  Value: 10.050201938620003\n",
            "Min  Value: 25.0\n",
            "Max  Value: 146.0\n",
            "Getting Descriptive Statistics\n",
            "Column Name: 'NUM_BO'\n"
          ],
          "name": "stdout"
        },
        {
          "output_type": "display_data",
          "data": {
            "image/png": "[encoded data removed]",
            "text/plain": [
              "<Figure size 432x288 with 1 Axes>"
            ]
          },
          "metadata": {
            "tags": []
          }
        },
        {
          "output_type": "stream",
          "text": [
            "Mean Value: 1.6143254599136951\n",
            "STD  Value: 0.5231552823264644\n",
            "Min  Value: 1.0\n",
            "Max  Value: 10.0\n",
            "Getting Descriptive Statistics\n",
            "Column Name: 'DTI'\n"
          ],
          "name": "stdout"
        },
        {
          "output_type": "display_data",
          "data": {
            "image/png": "[encoded data removed]",
            "text/plain": [
              "<Figure size 432x288 with 1 Axes>"
            ]
          },
          "metadata": {
            "tags": []
          }
        },
        {
          "output_type": "stream",
          "text": [
            "Mean Value: 34.361626863903325\n",
            "STD  Value: 11.999554980602948\n",
            "Min  Value: 1.0\n",
            "Max  Value: 64.0\n",
            "Getting Descriptive Statistics\n",
            "Column Name: 'CSCORE_B'\n"
          ],
          "name": "stdout"
        },
        {
          "output_type": "display_data",
          "data": {
            "image/png": "[encoded data removed]",
            "text/plain": [
              "<Figure size 432x288 with 1 Axes>"
            ]
          },
          "metadata": {
            "tags": []
          }
        },
        {
          "output_type": "stream",
          "text": [
            "Mean Value: 714.993915472381\n",
            "STD  Value: 54.96767970469592\n",
            "Min  Value: 350.0\n",
            "Max  Value: 850.0\n",
            "Getting Descriptive Statistics\n",
            "Column Name: 'NUM_UNIT'\n"
          ],
          "name": "stdout"
        },
        {
          "output_type": "display_data",
          "data": {
            "image/png": "[encoded data removed]",
            "text/plain": [
              "<Figure size 432x288 with 1 Axes>"
            ]
          },
          "metadata": {
            "tags": []
          }
        },
        {
          "output_type": "stream",
          "text": [
            "Mean Value: 1.0383775616435027\n",
            "STD  Value: 0.24361149802422719\n",
            "Min  Value: 1\n",
            "Max  Value: 4\n",
            "Getting Descriptive Statistics\n",
            "Column Name: 'ZIP_3'\n"
          ],
          "name": "stdout"
        },
        {
          "output_type": "display_data",
          "data": {
            "image/png": "[encoded data removed]",
            "text/plain": [
              "<Figure size 432x288 with 1 Axes>"
            ]
          },
          "metadata": {
            "tags": []
          }
        },
        {
          "output_type": "stream",
          "text": [
            "Mean Value: 517.2264697423267\n",
            "STD  Value: 295.4292993422828\n",
            "Min  Value: 0\n",
            "Max  Value: 999\n",
            "Getting Descriptive Statistics\n",
            "Column Name: 'MI_PCT'\n"
          ],
          "name": "stdout"
        },
        {
          "output_type": "display_data",
          "data": {
            "image/png": "[encoded data removed]",
            "text/plain": [
              "<Figure size 432x288 with 1 Axes>"
            ]
          },
          "metadata": {
            "tags": []
          }
        },
        {
          "output_type": "stream",
          "text": [
            "Mean Value: 24.368204263224797\n",
            "STD  Value: 6.4046815351782245\n",
            "Min  Value: 1.0\n",
            "Max  Value: 50.0\n",
            "Getting Descriptive Statistics\n",
            "Column Name: 'CSCORE_C'\n"
          ],
          "name": "stdout"
        },
        {
          "output_type": "display_data",
          "data": {
            "image/png": "[encoded data removed]",
            "text/plain": [
              "<Figure size 432x288 with 1 Axes>"
            ]
          },
          "metadata": {
            "tags": []
          }
        },
        {
          "output_type": "stream",
          "text": [
            "Mean Value: 722.4233139280328\n",
            "STD  Value: 53.61527835919263\n",
            "Min  Value: 396.0\n",
            "Max  Value: 834.0\n",
            "Getting Descriptive Statistics\n",
            "Column Name: 'MI_TYPE'\n"
          ],
          "name": "stdout"
        },
        {
          "output_type": "display_data",
          "data": {
            "image/png": "[encoded data removed]",
            "text/plain": [
              "<Figure size 432x288 with 1 Axes>"
            ]
          },
          "metadata": {
            "tags": []
          }
        },
        {
          "output_type": "stream",
          "text": [
            "Mean Value: 1.0388677031387503\n",
            "STD  Value: 0.19359671580475918\n",
            "Min  Value: 1.0\n",
            "Max  Value: 3.0\n"
          ],
          "name": "stdout"
        }
      ]
    },
    {
      "cell_type": "code",
      "metadata": {
        "id": "HsSJmWffCdBy",
        "colab_type": "code",
        "outputId": "d316adb3-0c06-4b8c-9d71-0f529c241aaf",
        "colab": {
          "base_uri": "https://localhost:8080/",
          "height": 1000
        }
      },
      "source": [
        "for i in range(len(per.columns)):\n",
        "  descriptive_stats(per[per.columns[i]])"
      ],
      "execution_count": 0,
      "outputs": [
        {
          "output_type": "stream",
          "text": [
            "Getting Descriptive Statistics\n",
            "Column Name: 'LOAN_ID'\n"
          ],
          "name": "stdout"
        },
        {
          "output_type": "display_data",
          "data": {
            "image/png": "[encoded data removed]",
            "text/plain": [
              "<Figure size 432x288 with 1 Axes>"
            ]
          },
          "metadata": {
            "tags": []
          }
        },
        {
          "output_type": "stream",
          "text": [
            "Mean Value: 350207644263.3975\n",
            "STD  Value: 144031524337.05945\n",
            "Min  Value: 100007365142\n",
            "Max  Value: 599297432167\n",
            "Getting Descriptive Statistics\n",
            "Column Name: 'LAST_RT'\n"
          ],
          "name": "stdout"
        },
        {
          "output_type": "display_data",
          "data": {
            "image/png": "[encoded data removed]",
            "text/plain": [
              "<Figure size 432x288 with 1 Axes>"
            ]
          },
          "metadata": {
            "tags": []
          }
        },
        {
          "output_type": "stream",
          "text": [
            "Mean Value: 7.937538962837163\n",
            "STD  Value: 0.5616840124904309\n",
            "Min  Value: 2.0\n",
            "Max  Value: 12.325\n",
            "Getting Descriptive Statistics\n",
            "Column Name: 'LAST_UPB'\n"
          ],
          "name": "stdout"
        },
        {
          "output_type": "stream",
          "text": [
            "/usr/local/lib/python3.6/dist-packages/numpy/lib/histograms.py:839: RuntimeWarning: invalid value encountered in greater_equal\n",
            "  keep = (tmp_a >= first_edge)\n",
            "/usr/local/lib/python3.6/dist-packages/numpy/lib/histograms.py:840: RuntimeWarning: invalid value encountered in less_equal\n",
            "  keep &= (tmp_a <= last_edge)\n"
          ],
          "name": "stderr"
        },
        {
          "output_type": "display_data",
          "data": {
            "image/png": "[encoded data removed]",
            "text/plain": [
              "<Figure size 432x288 with 1 Axes>"
            ]
          },
          "metadata": {
            "tags": []
          }
        },
        {
          "output_type": "stream",
          "text": [
            "Mean Value: 96917.63742145426\n",
            "STD  Value: 55427.7351209835\n",
            "Min  Value: 0.65\n",
            "Max  Value: 483760.84\n",
            "Getting Descriptive Statistics\n",
            "Column Name: 'Loan.Age'\n"
          ],
          "name": "stdout"
        },
        {
          "output_type": "display_data",
          "data": {
            "image/png": "[encoded data removed]",
            "text/plain": [
              "<Figure size 432x288 with 1 Axes>"
            ]
          },
          "metadata": {
            "tags": []
          }
        },
        {
          "output_type": "stream",
          "text": [
            "Mean Value: 34.73088098218539\n",
            "STD  Value: 41.54988977625127\n",
            "Min  Value: -1\n",
            "Max  Value: 245\n",
            "Getting Descriptive Statistics\n",
            "Column Name: 'Months.To.Legal.Mat'\n"
          ],
          "name": "stdout"
        },
        {
          "output_type": "display_data",
          "data": {
            "image/png": "[encoded data removed]",
            "text/plain": [
              "<Figure size 432x288 with 1 Axes>"
            ]
          },
          "metadata": {
            "tags": []
          }
        },
        {
          "output_type": "stream",
          "text": [
            "Mean Value: 285.30751289639556\n",
            "STD  Value: 87.84136998672591\n",
            "Min  Value: -53.0\n",
            "Max  Value: 481.0\n",
            "Getting Descriptive Statistics\n",
            "Column Name: 'Adj.Month.To.Mat'\n"
          ],
          "name": "stdout"
        },
        {
          "output_type": "display_data",
          "data": {
            "image/png": "[encoded data removed]",
            "text/plain": [
              "<Figure size 432x288 with 1 Axes>"
            ]
          },
          "metadata": {
            "tags": []
          }
        },
        {
          "output_type": "stream",
          "text": [
            "Mean Value: 269.74506086138575\n",
            "STD  Value: 101.5086398586452\n",
            "Min  Value: 0.0\n",
            "Max  Value: 407.0\n",
            "Getting Descriptive Statistics\n",
            "Column Name: 'MSA'\n"
          ],
          "name": "stdout"
        },
        {
          "output_type": "display_data",
          "data": {
            "image/png": "[encoded data removed]",
            "text/plain": [
              "<Figure size 432x288 with 1 Axes>"
            ]
          },
          "metadata": {
            "tags": []
          }
        },
        {
          "output_type": "stream",
          "text": [
            "Mean Value: 26073.239481671855\n",
            "STD  Value: 14309.14905398485\n",
            "Min  Value: 0\n",
            "Max  Value: 49740\n",
            "Getting Descriptive Statistics\n",
            "Column Name: 'Delq.Status'\n"
          ],
          "name": "stdout"
        },
        {
          "output_type": "display_data",
          "data": {
            "image/png": "[encoded data removed]",
            "text/plain": [
              "<Figure size 432x288 with 1 Axes>"
            ]
          },
          "metadata": {
            "tags": []
          }
        },
        {
          "output_type": "stream",
          "text": [
            "Mean Value: 0.1728634476214521\n",
            "STD  Value: 1.742048713713286\n",
            "Min  Value: 0.0\n",
            "Max  Value: 140.0\n",
            "Getting Descriptive Statistics\n",
            "Column Name: 'Zero.Bal.Code'\n"
          ],
          "name": "stdout"
        },
        {
          "output_type": "display_data",
          "data": {
            "image/png": "[encoded data removed]",
            "text/plain": [
              "<Figure size 432x288 with 1 Axes>"
            ]
          },
          "metadata": {
            "tags": []
          }
        },
        {
          "output_type": "stream",
          "text": [
            "Mean Value: 1.1186496882875714\n",
            "STD  Value: 0.9481616326558724\n",
            "Min  Value: 1.0\n",
            "Max  Value: 16.0\n",
            "Getting Descriptive Statistics\n",
            "Column Name: 'FCC_COST'\n"
          ],
          "name": "stdout"
        },
        {
          "output_type": "display_data",
          "data": {
            "image/png": "[encoded data removed]",
            "text/plain": [
              "<Figure size 432x288 with 1 Axes>"
            ]
          },
          "metadata": {
            "tags": []
          }
        },
        {
          "output_type": "stream",
          "text": [
            "Mean Value: 4398.265740093247\n",
            "STD  Value: 6061.171215639841\n",
            "Min  Value: 1.73\n",
            "Max  Value: 137785.02\n",
            "Getting Descriptive Statistics\n",
            "Column Name: 'PP_COST'\n"
          ],
          "name": "stdout"
        },
        {
          "output_type": "display_data",
          "data": {
            "image/png": "[encoded data removed]",
            "text/plain": [
              "<Figure size 432x288 with 1 Axes>"
            ]
          },
          "metadata": {
            "tags": []
          }
        },
        {
          "output_type": "stream",
          "text": [
            "Mean Value: 3496.239547945208\n",
            "STD  Value: 4843.2365409049735\n",
            "Min  Value: 0.0\n",
            "Max  Value: 68766.14\n",
            "Getting Descriptive Statistics\n",
            "Column Name: 'AR_COST'\n"
          ],
          "name": "stdout"
        },
        {
          "output_type": "display_data",
          "data": {
            "image/png": "[encoded data removed]",
            "text/plain": [
              "<Figure size 432x288 with 1 Axes>"
            ]
          },
          "metadata": {
            "tags": []
          }
        },
        {
          "output_type": "stream",
          "text": [
            "Mean Value: 945.4300156250004\n",
            "STD  Value: 1224.3420487916262\n",
            "Min  Value: 0.0\n",
            "Max  Value: 20155.88\n",
            "Getting Descriptive Statistics\n",
            "Column Name: 'IE_COST'\n"
          ],
          "name": "stdout"
        },
        {
          "output_type": "display_data",
          "data": {
            "image/png": "[encoded data removed]",
            "text/plain": [
              "<Figure size 432x288 with 1 Axes>"
            ]
          },
          "metadata": {
            "tags": []
          }
        },
        {
          "output_type": "stream",
          "text": [
            "Mean Value: 707.8391527599488\n",
            "STD  Value: 2334.8716043575887\n",
            "Min  Value: -12634.1\n",
            "Max  Value: 35535.33\n",
            "Getting Descriptive Statistics\n",
            "Column Name: 'TAX_COST'\n"
          ],
          "name": "stdout"
        },
        {
          "output_type": "display_data",
          "data": {
            "image/png": "[encoded data removed]",
            "text/plain": [
              "<Figure size 432x288 with 1 Axes>"
            ]
          },
          "metadata": {
            "tags": []
          }
        },
        {
          "output_type": "stream",
          "text": [
            "Mean Value: 2771.5965802382602\n",
            "STD  Value: 4791.126060511661\n",
            "Min  Value: 0.0\n",
            "Max  Value: 111516.81\n",
            "Getting Descriptive Statistics\n",
            "Column Name: 'NS_PROCS'\n"
          ],
          "name": "stdout"
        },
        {
          "output_type": "display_data",
          "data": {
            "image/png": "[encoded data removed]",
            "text/plain": [
              "<Figure size 432x288 with 1 Axes>"
            ]
          },
          "metadata": {
            "tags": []
          }
        },
        {
          "output_type": "stream",
          "text": [
            "Mean Value: 77819.19496110134\n",
            "STD  Value: 57409.17373805113\n",
            "Min  Value: 0.0\n",
            "Max  Value: 384259.57\n",
            "Getting Descriptive Statistics\n",
            "Column Name: 'CE_PROCS'\n"
          ],
          "name": "stdout"
        },
        {
          "output_type": "display_data",
          "data": {
            "image/png": "[encoded data removed]",
            "text/plain": [
              "<Figure size 432x288 with 1 Axes>"
            ]
          },
          "metadata": {
            "tags": []
          }
        },
        {
          "output_type": "stream",
          "text": [
            "Mean Value: 27543.119584954584\n",
            "STD  Value: 29392.563119293238\n",
            "Min  Value: 0.0\n",
            "Max  Value: 243697.13\n",
            "Getting Descriptive Statistics\n",
            "Column Name: 'RMW_PROCS'\n"
          ],
          "name": "stdout"
        },
        {
          "output_type": "display_data",
          "data": {
            "image/png": "[encoded data removed]",
            "text/plain": [
              "<Figure size 432x288 with 1 Axes>"
            ]
          },
          "metadata": {
            "tags": []
          }
        },
        {
          "output_type": "stream",
          "text": [
            "Mean Value: 66185.72069306928\n",
            "STD  Value: 54375.03617899761\n",
            "Min  Value: 0.0\n",
            "Max  Value: 411667.25\n",
            "Getting Descriptive Statistics\n",
            "Column Name: 'O_PROCS'\n"
          ],
          "name": "stdout"
        },
        {
          "output_type": "display_data",
          "data": {
            "image/png": "[encoded data removed]",
            "text/plain": [
              "<Figure size 432x288 with 1 Axes>"
            ]
          },
          "metadata": {
            "tags": []
          }
        },
        {
          "output_type": "stream",
          "text": [
            "Mean Value: 9239.485680272111\n",
            "STD  Value: 30514.1236992143\n",
            "Min  Value: 0.0\n",
            "Max  Value: 310593.71\n",
            "Getting Descriptive Statistics\n",
            "Column Name: 'NON_INT_UPB'\n"
          ],
          "name": "stdout"
        },
        {
          "output_type": "display_data",
          "data": {
            "image/png": "[encoded data removed]",
            "text/plain": [
              "<Figure size 432x288 with 1 Axes>"
            ]
          },
          "metadata": {
            "tags": []
          }
        },
        {
          "output_type": "stream",
          "text": [
            "Mean Value: 1011.6518478924871\n",
            "STD  Value: 5566.7795476435795\n",
            "Min  Value: 0.0\n",
            "Max  Value: 63984.29\n",
            "Getting Descriptive Statistics\n",
            "Column Name: 'PRIN_FORG_UPB_FHFA'\n"
          ],
          "name": "stdout"
        },
        {
          "output_type": "display_data",
          "data": {
            "image/png": "[encoded data removed]",
            "text/plain": [
              "<Figure size 432x288 with 1 Axes>"
            ]
          },
          "metadata": {
            "tags": []
          }
        },
        {
          "output_type": "stream",
          "text": [
            "Mean Value: 360.915059055118\n",
            "STD  Value: 2505.512605136831\n",
            "Min  Value: 0.0\n",
            "Max  Value: 17743.05\n",
            "Getting Descriptive Statistics\n",
            "Column Name: 'PRIN_FORG_UPB_OTH'\n"
          ],
          "name": "stdout"
        },
        {
          "output_type": "display_data",
          "data": {
            "image/png": "[encoded data removed]",
            "text/plain": [
              "<Figure size 432x288 with 1 Axes>"
            ]
          },
          "metadata": {
            "tags": []
          }
        },
        {
          "output_type": "stream",
          "text": [
            "Mean Value: 6894.0\n",
            "STD  Value: 0.0\n",
            "Min  Value: 6894.0\n",
            "Max  Value: 6894.0\n"
          ],
          "name": "stdout"
        }
      ]
    },
    {
      "cell_type": "code",
      "metadata": {
        "id": "II9zC5L3wYPa",
        "colab_type": "code",
        "outputId": "9bab78ee-93cd-46c6-b807-6d9947fb8958",
        "colab": {
          "base_uri": "https://localhost:8080/",
          "height": 1000
        }
      },
      "source": [
        "for i in range(len(per.columns)):\n",
        "  descriptive_stats(per[per.columns[i]])"
      ],
      "execution_count": 0,
      "outputs": [
        {
          "output_type": "stream",
          "text": [
            "Getting Descriptive Statistics\n",
            "Column Name: 'LOAN_ID'\n"
          ],
          "name": "stdout"
        },
        {
          "output_type": "display_data",
          "data": {
            "image/png": "[encoded data removed]",
            "text/plain": [
              "<Figure size 432x288 with 1 Axes>"
            ]
          },
          "metadata": {
            "tags": []
          }
        },
        {
          "output_type": "stream",
          "text": [
            "Mean Value: 350207644263.3975\n",
            "STD  Value: 144031524337.05945\n",
            "Min  Value: 100007365142\n",
            "Max  Value: 599297432167\n",
            "Getting Descriptive Statistics\n",
            "Column Name: 'LAST_RT'\n"
          ],
          "name": "stdout"
        },
        {
          "output_type": "display_data",
          "data": {
            "image/png": "[encoded data removed]",
            "text/plain": [
              "<Figure size 432x288 with 1 Axes>"
            ]
          },
          "metadata": {
            "tags": []
          }
        },
        {
          "output_type": "stream",
          "text": [
            "Mean Value: 7.937538962837163\n",
            "STD  Value: 0.5616840124904309\n",
            "Min  Value: 2.0\n",
            "Max  Value: 12.325\n",
            "Getting Descriptive Statistics\n",
            "Column Name: 'LAST_UPB'\n"
          ],
          "name": "stdout"
        },
        {
          "output_type": "stream",
          "text": [
            "/usr/local/lib/python3.6/dist-packages/numpy/lib/histograms.py:839: RuntimeWarning: invalid value encountered in greater_equal\n",
            "  keep = (tmp_a >= first_edge)\n",
            "/usr/local/lib/python3.6/dist-packages/numpy/lib/histograms.py:840: RuntimeWarning: invalid value encountered in less_equal\n",
            "  keep &= (tmp_a <= last_edge)\n"
          ],
          "name": "stderr"
        },
        {
          "output_type": "display_data",
          "data": {
            "image/png": "[encoded data removed]",
            "text/plain": [
              "<Figure size 432x288 with 1 Axes>"
            ]
          },
          "metadata": {
            "tags": []
          }
        },
        {
          "output_type": "stream",
          "text": [
            "Mean Value: 96917.63742145426\n",
            "STD  Value: 55427.7351209835\n",
            "Min  Value: 0.65\n",
            "Max  Value: 483760.84\n",
            "Getting Descriptive Statistics\n",
            "Column Name: 'Loan.Age'\n"
          ],
          "name": "stdout"
        },
        {
          "output_type": "display_data",
          "data": {
            "image/png": "[encoded data removed]",
            "text/plain": [
              "<Figure size 432x288 with 1 Axes>"
            ]
          },
          "metadata": {
            "tags": []
          }
        },
        {
          "output_type": "stream",
          "text": [
            "Mean Value: 34.73088098218539\n",
            "STD  Value: 41.54988977625127\n",
            "Min  Value: -1\n",
            "Max  Value: 245\n",
            "Getting Descriptive Statistics\n",
            "Column Name: 'Months.To.Legal.Mat'\n"
          ],
          "name": "stdout"
        },
        {
          "output_type": "display_data",
          "data": {
            "image/png": "[encoded data removed]",
            "text/plain": [
              "<Figure size 432x288 with 1 Axes>"
            ]
          },
          "metadata": {
            "tags": []
          }
        },
        {
          "output_type": "stream",
          "text": [
            "Mean Value: 285.30751289639556\n",
            "STD  Value: 87.84136998672591\n",
            "Min  Value: -53.0\n",
            "Max  Value: 481.0\n",
            "Getting Descriptive Statistics\n",
            "Column Name: 'Adj.Month.To.Mat'\n"
          ],
          "name": "stdout"
        },
        {
          "output_type": "display_data",
          "data": {
            "image/png": "[encoded data removed]",
            "text/plain": [
              "<Figure size 432x288 with 1 Axes>"
            ]
          },
          "metadata": {
            "tags": []
          }
        },
        {
          "output_type": "stream",
          "text": [
            "Mean Value: 269.74506086138575\n",
            "STD  Value: 101.5086398586452\n",
            "Min  Value: 0.0\n",
            "Max  Value: 407.0\n",
            "Getting Descriptive Statistics\n",
            "Column Name: 'MSA'\n"
          ],
          "name": "stdout"
        },
        {
          "output_type": "display_data",
          "data": {
            "image/png": "[encoded data removed]",
            "text/plain": [
              "<Figure size 432x288 with 1 Axes>"
            ]
          },
          "metadata": {
            "tags": []
          }
        },
        {
          "output_type": "stream",
          "text": [
            "Mean Value: 26073.239481671855\n",
            "STD  Value: 14309.14905398485\n",
            "Min  Value: 0\n",
            "Max  Value: 49740\n",
            "Getting Descriptive Statistics\n",
            "Column Name: 'Delq.Status'\n"
          ],
          "name": "stdout"
        },
        {
          "output_type": "display_data",
          "data": {
            "image/png": "[encoded data removed]",
            "text/plain": [
              "<Figure size 432x288 with 1 Axes>"
            ]
          },
          "metadata": {
            "tags": []
          }
        },
        {
          "output_type": "stream",
          "text": [
            "Mean Value: 0.1728634476214521\n",
            "STD  Value: 1.742048713713286\n",
            "Min  Value: 0.0\n",
            "Max  Value: 140.0\n",
            "Getting Descriptive Statistics\n",
            "Column Name: 'Zero.Bal.Code'\n"
          ],
          "name": "stdout"
        },
        {
          "output_type": "display_data",
          "data": {
            "image/png": "[encoded data removed]",
            "text/plain": [
              "<Figure size 432x288 with 1 Axes>"
            ]
          },
          "metadata": {
            "tags": []
          }
        },
        {
          "output_type": "stream",
          "text": [
            "Mean Value: 1.1186496882875714\n",
            "STD  Value: 0.9481616326558724\n",
            "Min  Value: 1.0\n",
            "Max  Value: 16.0\n",
            "Getting Descriptive Statistics\n",
            "Column Name: 'FCC_COST'\n"
          ],
          "name": "stdout"
        },
        {
          "output_type": "display_data",
          "data": {
            "image/png": "[encoded data removed]",
            "text/plain": [
              "<Figure size 432x288 with 1 Axes>"
            ]
          },
          "metadata": {
            "tags": []
          }
        },
        {
          "output_type": "stream",
          "text": [
            "Mean Value: 4398.265740093247\n",
            "STD  Value: 6061.171215639841\n",
            "Min  Value: 1.73\n",
            "Max  Value: 137785.02\n",
            "Getting Descriptive Statistics\n",
            "Column Name: 'PP_COST'\n"
          ],
          "name": "stdout"
        },
        {
          "output_type": "display_data",
          "data": {
            "image/png": "[encoded data removed]",
            "text/plain": [
              "<Figure size 432x288 with 1 Axes>"
            ]
          },
          "metadata": {
            "tags": []
          }
        },
        {
          "output_type": "stream",
          "text": [
            "Mean Value: 3496.239547945208\n",
            "STD  Value: 4843.2365409049735\n",
            "Min  Value: 0.0\n",
            "Max  Value: 68766.14\n",
            "Getting Descriptive Statistics\n",
            "Column Name: 'AR_COST'\n"
          ],
          "name": "stdout"
        },
        {
          "output_type": "display_data",
          "data": {
            "image/png": "[encoded data removed]",
            "text/plain": [
              "<Figure size 432x288 with 1 Axes>"
            ]
          },
          "metadata": {
            "tags": []
          }
        },
        {
          "output_type": "stream",
          "text": [
            "Mean Value: 945.4300156250004\n",
            "STD  Value: 1224.3420487916262\n",
            "Min  Value: 0.0\n",
            "Max  Value: 20155.88\n",
            "Getting Descriptive Statistics\n",
            "Column Name: 'IE_COST'\n"
          ],
          "name": "stdout"
        },
        {
          "output_type": "display_data",
          "data": {
            "image/png": "[encoded data removed]",
            "text/plain": [
              "<Figure size 432x288 with 1 Axes>"
            ]
          },
          "metadata": {
            "tags": []
          }
        },
        {
          "output_type": "stream",
          "text": [
            "Mean Value: 707.8391527599488\n",
            "STD  Value: 2334.8716043575887\n",
            "Min  Value: -12634.1\n",
            "Max  Value: 35535.33\n",
            "Getting Descriptive Statistics\n",
            "Column Name: 'TAX_COST'\n"
          ],
          "name": "stdout"
        },
        {
          "output_type": "display_data",
          "data": {
            "image/png": "[encoded data removed]",
            "text/plain": [
              "<Figure size 432x288 with 1 Axes>"
            ]
          },
          "metadata": {
            "tags": []
          }
        },
        {
          "output_type": "stream",
          "text": [
            "Mean Value: 2771.5965802382602\n",
            "STD  Value: 4791.126060511661\n",
            "Min  Value: 0.0\n",
            "Max  Value: 111516.81\n",
            "Getting Descriptive Statistics\n",
            "Column Name: 'NS_PROCS'\n"
          ],
          "name": "stdout"
        },
        {
          "output_type": "display_data",
          "data": {
            "image/png": "[encoded data removed]",
            "text/plain": [
              "<Figure size 432x288 with 1 Axes>"
            ]
          },
          "metadata": {
            "tags": []
          }
        },
        {
          "output_type": "stream",
          "text": [
            "Mean Value: 77819.19496110134\n",
            "STD  Value: 57409.17373805113\n",
            "Min  Value: 0.0\n",
            "Max  Value: 384259.57\n",
            "Getting Descriptive Statistics\n",
            "Column Name: 'CE_PROCS'\n"
          ],
          "name": "stdout"
        },
        {
          "output_type": "display_data",
          "data": {
            "image/png": "[encoded data removed]",
            "text/plain": [
              "<Figure size 432x288 with 1 Axes>"
            ]
          },
          "metadata": {
            "tags": []
          }
        },
        {
          "output_type": "stream",
          "text": [
            "Mean Value: 27543.119584954584\n",
            "STD  Value: 29392.563119293238\n",
            "Min  Value: 0.0\n",
            "Max  Value: 243697.13\n",
            "Getting Descriptive Statistics\n",
            "Column Name: 'RMW_PROCS'\n"
          ],
          "name": "stdout"
        },
        {
          "output_type": "display_data",
          "data": {
            "image/png": "[encoded data removed]",
            "text/plain": [
              "<Figure size 432x288 with 1 Axes>"
            ]
          },
          "metadata": {
            "tags": []
          }
        },
        {
          "output_type": "stream",
          "text": [
            "Mean Value: 66185.72069306928\n",
            "STD  Value: 54375.03617899761\n",
            "Min  Value: 0.0\n",
            "Max  Value: 411667.25\n",
            "Getting Descriptive Statistics\n",
            "Column Name: 'O_PROCS'\n"
          ],
          "name": "stdout"
        },
        {
          "output_type": "display_data",
          "data": {
            "image/png": "[encoded data removed]",
            "text/plain": [
              "<Figure size 432x288 with 1 Axes>"
            ]
          },
          "metadata": {
            "tags": []
          }
        },
        {
          "output_type": "stream",
          "text": [
            "Mean Value: 9239.485680272111\n",
            "STD  Value: 30514.1236992143\n",
            "Min  Value: 0.0\n",
            "Max  Value: 310593.71\n",
            "Getting Descriptive Statistics\n",
            "Column Name: 'NON_INT_UPB'\n"
          ],
          "name": "stdout"
        },
        {
          "output_type": "display_data",
          "data": {
            "image/png": "[encoded data removed]",
            "text/plain": [
              "<Figure size 432x288 with 1 Axes>"
            ]
          },
          "metadata": {
            "tags": []
          }
        },
        {
          "output_type": "stream",
          "text": [
            "Mean Value: 1011.6518478924871\n",
            "STD  Value: 5566.7795476435795\n",
            "Min  Value: 0.0\n",
            "Max  Value: 63984.29\n",
            "Getting Descriptive Statistics\n",
            "Column Name: 'PRIN_FORG_UPB_FHFA'\n"
          ],
          "name": "stdout"
        },
        {
          "output_type": "display_data",
          "data": {
            "image/png": "[encoded data removed]",
            "text/plain": [
              "<Figure size 432x288 with 1 Axes>"
            ]
          },
          "metadata": {
            "tags": []
          }
        },
        {
          "output_type": "stream",
          "text": [
            "Mean Value: 360.915059055118\n",
            "STD  Value: 2505.512605136831\n",
            "Min  Value: 0.0\n",
            "Max  Value: 17743.05\n",
            "Getting Descriptive Statistics\n",
            "Column Name: 'PRIN_FORG_UPB_OTH'\n"
          ],
          "name": "stdout"
        },
        {
          "output_type": "display_data",
          "data": {
            "image/png": "[encoded data removed]",
            "text/plain": [
              "<Figure size 432x288 with 1 Axes>"
            ]
          },
          "metadata": {
            "tags": []
          }
        },
        {
          "output_type": "stream",
          "text": [
            "Mean Value: 6894.0\n",
            "STD  Value: 0.0\n",
            "Min  Value: 6894.0\n",
            "Max  Value: 6894.0\n"
          ],
          "name": "stdout"
        }
      ]
    },
    {
      "cell_type": "markdown",
      "metadata": {
        "id": "CYlimvjwcFcj",
        "colab_type": "text"
      },
      "source": [
        "Statistics between acquisition and performance"
      ]
    },
    {
      "cell_type": "code",
      "metadata": {
        "id": "FLyyQ49TcGk8",
        "colab_type": "code",
        "colab": {}
      },
      "source": [
        "group = performance.groupby('LOAN_ID')"
      ],
      "execution_count": 0,
      "outputs": []
    },
    {
      "cell_type": "code",
      "metadata": {
        "id": "yzxVLhynf6Zh",
        "colab_type": "code",
        "outputId": "4de58d98-b8f4-432d-c55c-9a9070dd8361",
        "colab": {
          "base_uri": "https://localhost:8080/",
          "height": 470
        }
      },
      "source": [
        "group.count()"
      ],
      "execution_count": 0,
      "outputs": [
        {
          "output_type": "execute_result",
          "data": {
            "text/html": [
              "<div>\n",
              "<style scoped>\n",
              "    .dataframe tbody tr th:only-of-type {\n",
              "        vertical-align: middle;\n",
              "    }\n",
              "\n",
              "    .dataframe tbody tr th {\n",
              "        vertical-align: top;\n",
              "    }\n",
              "\n",
              "    .dataframe thead th {\n",
              "        text-align: right;\n",
              "    }\n",
              "</style>\n",
              "<table border=\"1\" class=\"dataframe\">\n",
              "  <thead>\n",
              "    <tr style=\"text-align: right;\">\n",
              "      <th></th>\n",
              "      <th>Monthly.Rpt.Prd</th>\n",
              "      <th>Servicer.Name</th>\n",
              "      <th>LAST_RT</th>\n",
              "      <th>LAST_UPB</th>\n",
              "      <th>Loan.Age</th>\n",
              "      <th>Months.To.Legal.Mat</th>\n",
              "      <th>Adj.Month.To.Mat</th>\n",
              "      <th>Maturity.Date</th>\n",
              "      <th>MSA</th>\n",
              "      <th>Delq.Status</th>\n",
              "      <th>MOD_FLAG</th>\n",
              "      <th>Zero.Bal.Code</th>\n",
              "      <th>ZB_DTE</th>\n",
              "      <th>LPI_DTE</th>\n",
              "      <th>FCC_DTE</th>\n",
              "      <th>DISP_DT</th>\n",
              "      <th>FCC_COST</th>\n",
              "      <th>PP_COST</th>\n",
              "      <th>AR_COST</th>\n",
              "      <th>IE_COST</th>\n",
              "      <th>TAX_COST</th>\n",
              "      <th>NS_PROCS</th>\n",
              "      <th>CE_PROCS</th>\n",
              "      <th>RMW_PROCS</th>\n",
              "      <th>O_PROCS</th>\n",
              "      <th>NON_INT_UPB</th>\n",
              "      <th>PRIN_FORG_UPB_FHFA</th>\n",
              "      <th>REPCH_FLAG</th>\n",
              "      <th>PRIN_FORG_UPB_OTH</th>\n",
              "      <th>TRANSFER_FLG</th>\n",
              "    </tr>\n",
              "    <tr>\n",
              "      <th>LOAN_ID</th>\n",
              "      <th></th>\n",
              "      <th></th>\n",
              "      <th></th>\n",
              "      <th></th>\n",
              "      <th></th>\n",
              "      <th></th>\n",
              "      <th></th>\n",
              "      <th></th>\n",
              "      <th></th>\n",
              "      <th></th>\n",
              "      <th></th>\n",
              "      <th></th>\n",
              "      <th></th>\n",
              "      <th></th>\n",
              "      <th></th>\n",
              "      <th></th>\n",
              "      <th></th>\n",
              "      <th></th>\n",
              "      <th></th>\n",
              "      <th></th>\n",
              "      <th></th>\n",
              "      <th></th>\n",
              "      <th></th>\n",
              "      <th></th>\n",
              "      <th></th>\n",
              "      <th></th>\n",
              "      <th></th>\n",
              "      <th></th>\n",
              "      <th></th>\n",
              "      <th></th>\n",
              "    </tr>\n",
              "  </thead>\n",
              "  <tbody>\n",
              "    <tr>\n",
              "      <th>100007365142</th>\n",
              "      <td>40</td>\n",
              "      <td>1</td>\n",
              "      <td>40</td>\n",
              "      <td>34</td>\n",
              "      <td>40</td>\n",
              "      <td>40</td>\n",
              "      <td>40</td>\n",
              "      <td>40</td>\n",
              "      <td>40</td>\n",
              "      <td>40</td>\n",
              "      <td>40</td>\n",
              "      <td>1</td>\n",
              "      <td>1</td>\n",
              "      <td>0</td>\n",
              "      <td>0</td>\n",
              "      <td>0</td>\n",
              "      <td>0</td>\n",
              "      <td>0</td>\n",
              "      <td>0</td>\n",
              "      <td>0</td>\n",
              "      <td>0</td>\n",
              "      <td>0</td>\n",
              "      <td>0</td>\n",
              "      <td>0</td>\n",
              "      <td>0</td>\n",
              "      <td>0</td>\n",
              "      <td>0</td>\n",
              "      <td>1</td>\n",
              "      <td>0</td>\n",
              "      <td>0</td>\n",
              "    </tr>\n",
              "    <tr>\n",
              "      <th>100007386460</th>\n",
              "      <td>16</td>\n",
              "      <td>0</td>\n",
              "      <td>16</td>\n",
              "      <td>10</td>\n",
              "      <td>16</td>\n",
              "      <td>16</td>\n",
              "      <td>16</td>\n",
              "      <td>16</td>\n",
              "      <td>16</td>\n",
              "      <td>16</td>\n",
              "      <td>16</td>\n",
              "      <td>1</td>\n",
              "      <td>1</td>\n",
              "      <td>0</td>\n",
              "      <td>0</td>\n",
              "      <td>0</td>\n",
              "      <td>0</td>\n",
              "      <td>0</td>\n",
              "      <td>0</td>\n",
              "      <td>0</td>\n",
              "      <td>0</td>\n",
              "      <td>0</td>\n",
              "      <td>0</td>\n",
              "      <td>0</td>\n",
              "      <td>0</td>\n",
              "      <td>0</td>\n",
              "      <td>0</td>\n",
              "      <td>1</td>\n",
              "      <td>0</td>\n",
              "      <td>0</td>\n",
              "    </tr>\n",
              "    <tr>\n",
              "      <th>100011322040</th>\n",
              "      <td>40</td>\n",
              "      <td>1</td>\n",
              "      <td>40</td>\n",
              "      <td>34</td>\n",
              "      <td>40</td>\n",
              "      <td>40</td>\n",
              "      <td>40</td>\n",
              "      <td>40</td>\n",
              "      <td>40</td>\n",
              "      <td>40</td>\n",
              "      <td>40</td>\n",
              "      <td>1</td>\n",
              "      <td>1</td>\n",
              "      <td>0</td>\n",
              "      <td>0</td>\n",
              "      <td>0</td>\n",
              "      <td>0</td>\n",
              "      <td>0</td>\n",
              "      <td>0</td>\n",
              "      <td>0</td>\n",
              "      <td>0</td>\n",
              "      <td>0</td>\n",
              "      <td>0</td>\n",
              "      <td>0</td>\n",
              "      <td>0</td>\n",
              "      <td>0</td>\n",
              "      <td>0</td>\n",
              "      <td>1</td>\n",
              "      <td>0</td>\n",
              "      <td>0</td>\n",
              "    </tr>\n",
              "    <tr>\n",
              "      <th>100015192562</th>\n",
              "      <td>58</td>\n",
              "      <td>1</td>\n",
              "      <td>58</td>\n",
              "      <td>52</td>\n",
              "      <td>58</td>\n",
              "      <td>58</td>\n",
              "      <td>58</td>\n",
              "      <td>58</td>\n",
              "      <td>58</td>\n",
              "      <td>58</td>\n",
              "      <td>58</td>\n",
              "      <td>1</td>\n",
              "      <td>1</td>\n",
              "      <td>0</td>\n",
              "      <td>0</td>\n",
              "      <td>0</td>\n",
              "      <td>0</td>\n",
              "      <td>0</td>\n",
              "      <td>0</td>\n",
              "      <td>0</td>\n",
              "      <td>0</td>\n",
              "      <td>0</td>\n",
              "      <td>0</td>\n",
              "      <td>0</td>\n",
              "      <td>0</td>\n",
              "      <td>0</td>\n",
              "      <td>0</td>\n",
              "      <td>1</td>\n",
              "      <td>0</td>\n",
              "      <td>0</td>\n",
              "    </tr>\n",
              "    <tr>\n",
              "      <th>100015874399</th>\n",
              "      <td>31</td>\n",
              "      <td>1</td>\n",
              "      <td>31</td>\n",
              "      <td>25</td>\n",
              "      <td>31</td>\n",
              "      <td>31</td>\n",
              "      <td>31</td>\n",
              "      <td>31</td>\n",
              "      <td>31</td>\n",
              "      <td>31</td>\n",
              "      <td>31</td>\n",
              "      <td>1</td>\n",
              "      <td>1</td>\n",
              "      <td>0</td>\n",
              "      <td>0</td>\n",
              "      <td>0</td>\n",
              "      <td>0</td>\n",
              "      <td>0</td>\n",
              "      <td>0</td>\n",
              "      <td>0</td>\n",
              "      <td>0</td>\n",
              "      <td>0</td>\n",
              "      <td>0</td>\n",
              "      <td>0</td>\n",
              "      <td>0</td>\n",
              "      <td>0</td>\n",
              "      <td>0</td>\n",
              "      <td>1</td>\n",
              "      <td>0</td>\n",
              "      <td>0</td>\n",
              "    </tr>\n",
              "    <tr>\n",
              "      <th>...</th>\n",
              "      <td>...</td>\n",
              "      <td>...</td>\n",
              "      <td>...</td>\n",
              "      <td>...</td>\n",
              "      <td>...</td>\n",
              "      <td>...</td>\n",
              "      <td>...</td>\n",
              "      <td>...</td>\n",
              "      <td>...</td>\n",
              "      <td>...</td>\n",
              "      <td>...</td>\n",
              "      <td>...</td>\n",
              "      <td>...</td>\n",
              "      <td>...</td>\n",
              "      <td>...</td>\n",
              "      <td>...</td>\n",
              "      <td>...</td>\n",
              "      <td>...</td>\n",
              "      <td>...</td>\n",
              "      <td>...</td>\n",
              "      <td>...</td>\n",
              "      <td>...</td>\n",
              "      <td>...</td>\n",
              "      <td>...</td>\n",
              "      <td>...</td>\n",
              "      <td>...</td>\n",
              "      <td>...</td>\n",
              "      <td>...</td>\n",
              "      <td>...</td>\n",
              "      <td>...</td>\n",
              "    </tr>\n",
              "    <tr>\n",
              "      <th>599292780032</th>\n",
              "      <td>35</td>\n",
              "      <td>1</td>\n",
              "      <td>35</td>\n",
              "      <td>29</td>\n",
              "      <td>35</td>\n",
              "      <td>35</td>\n",
              "      <td>35</td>\n",
              "      <td>35</td>\n",
              "      <td>35</td>\n",
              "      <td>35</td>\n",
              "      <td>35</td>\n",
              "      <td>1</td>\n",
              "      <td>1</td>\n",
              "      <td>0</td>\n",
              "      <td>0</td>\n",
              "      <td>0</td>\n",
              "      <td>0</td>\n",
              "      <td>0</td>\n",
              "      <td>0</td>\n",
              "      <td>0</td>\n",
              "      <td>0</td>\n",
              "      <td>0</td>\n",
              "      <td>0</td>\n",
              "      <td>0</td>\n",
              "      <td>0</td>\n",
              "      <td>0</td>\n",
              "      <td>0</td>\n",
              "      <td>1</td>\n",
              "      <td>0</td>\n",
              "      <td>0</td>\n",
              "    </tr>\n",
              "    <tr>\n",
              "      <th>599293198575</th>\n",
              "      <td>22</td>\n",
              "      <td>0</td>\n",
              "      <td>22</td>\n",
              "      <td>16</td>\n",
              "      <td>22</td>\n",
              "      <td>22</td>\n",
              "      <td>22</td>\n",
              "      <td>22</td>\n",
              "      <td>22</td>\n",
              "      <td>22</td>\n",
              "      <td>22</td>\n",
              "      <td>1</td>\n",
              "      <td>1</td>\n",
              "      <td>0</td>\n",
              "      <td>0</td>\n",
              "      <td>0</td>\n",
              "      <td>0</td>\n",
              "      <td>0</td>\n",
              "      <td>0</td>\n",
              "      <td>0</td>\n",
              "      <td>0</td>\n",
              "      <td>0</td>\n",
              "      <td>0</td>\n",
              "      <td>0</td>\n",
              "      <td>0</td>\n",
              "      <td>0</td>\n",
              "      <td>0</td>\n",
              "      <td>1</td>\n",
              "      <td>0</td>\n",
              "      <td>0</td>\n",
              "    </tr>\n",
              "    <tr>\n",
              "      <th>599295235685</th>\n",
              "      <td>47</td>\n",
              "      <td>1</td>\n",
              "      <td>47</td>\n",
              "      <td>41</td>\n",
              "      <td>47</td>\n",
              "      <td>47</td>\n",
              "      <td>47</td>\n",
              "      <td>47</td>\n",
              "      <td>47</td>\n",
              "      <td>47</td>\n",
              "      <td>47</td>\n",
              "      <td>1</td>\n",
              "      <td>1</td>\n",
              "      <td>0</td>\n",
              "      <td>0</td>\n",
              "      <td>0</td>\n",
              "      <td>0</td>\n",
              "      <td>0</td>\n",
              "      <td>0</td>\n",
              "      <td>0</td>\n",
              "      <td>0</td>\n",
              "      <td>0</td>\n",
              "      <td>0</td>\n",
              "      <td>0</td>\n",
              "      <td>0</td>\n",
              "      <td>0</td>\n",
              "      <td>0</td>\n",
              "      <td>1</td>\n",
              "      <td>0</td>\n",
              "      <td>0</td>\n",
              "    </tr>\n",
              "    <tr>\n",
              "      <th>599295243912</th>\n",
              "      <td>16</td>\n",
              "      <td>0</td>\n",
              "      <td>16</td>\n",
              "      <td>10</td>\n",
              "      <td>16</td>\n",
              "      <td>16</td>\n",
              "      <td>16</td>\n",
              "      <td>16</td>\n",
              "      <td>16</td>\n",
              "      <td>16</td>\n",
              "      <td>16</td>\n",
              "      <td>1</td>\n",
              "      <td>1</td>\n",
              "      <td>0</td>\n",
              "      <td>0</td>\n",
              "      <td>0</td>\n",
              "      <td>0</td>\n",
              "      <td>0</td>\n",
              "      <td>0</td>\n",
              "      <td>0</td>\n",
              "      <td>0</td>\n",
              "      <td>0</td>\n",
              "      <td>0</td>\n",
              "      <td>0</td>\n",
              "      <td>0</td>\n",
              "      <td>0</td>\n",
              "      <td>0</td>\n",
              "      <td>1</td>\n",
              "      <td>0</td>\n",
              "      <td>0</td>\n",
              "    </tr>\n",
              "    <tr>\n",
              "      <th>599297432167</th>\n",
              "      <td>48</td>\n",
              "      <td>1</td>\n",
              "      <td>48</td>\n",
              "      <td>42</td>\n",
              "      <td>48</td>\n",
              "      <td>48</td>\n",
              "      <td>48</td>\n",
              "      <td>48</td>\n",
              "      <td>48</td>\n",
              "      <td>47</td>\n",
              "      <td>47</td>\n",
              "      <td>0</td>\n",
              "      <td>0</td>\n",
              "      <td>0</td>\n",
              "      <td>0</td>\n",
              "      <td>0</td>\n",
              "      <td>0</td>\n",
              "      <td>0</td>\n",
              "      <td>0</td>\n",
              "      <td>0</td>\n",
              "      <td>0</td>\n",
              "      <td>0</td>\n",
              "      <td>0</td>\n",
              "      <td>0</td>\n",
              "      <td>0</td>\n",
              "      <td>0</td>\n",
              "      <td>0</td>\n",
              "      <td>0</td>\n",
              "      <td>0</td>\n",
              "      <td>0</td>\n",
              "    </tr>\n",
              "  </tbody>\n",
              "</table>\n",
              "<p>136859 rows × 30 columns</p>\n",
              "</div>"
            ],
            "text/plain": [
              "              Monthly.Rpt.Prd  Servicer.Name  ...  PRIN_FORG_UPB_OTH  TRANSFER_FLG\n",
              "LOAN_ID                                       ...                                 \n",
              "100007365142               40              1  ...                  0             0\n",
              "100007386460               16              0  ...                  0             0\n",
              "100011322040               40              1  ...                  0             0\n",
              "100015192562               58              1  ...                  0             0\n",
              "100015874399               31              1  ...                  0             0\n",
              "...                       ...            ...  ...                ...           ...\n",
              "599292780032               35              1  ...                  0             0\n",
              "599293198575               22              0  ...                  0             0\n",
              "599295235685               47              1  ...                  0             0\n",
              "599295243912               16              0  ...                  0             0\n",
              "599297432167               48              1  ...                  0             0\n",
              "\n",
              "[136859 rows x 30 columns]"
            ]
          },
          "metadata": {
            "tags": []
          },
          "execution_count": 14
        }
      ]
    },
    {
      "cell_type": "markdown",
      "metadata": {
        "id": "0df1tN2ryqSs",
        "colab_type": "text"
      },
      "source": [
        "Statistics on null values per column.\n"
      ]
    },
    {
      "cell_type": "code",
      "metadata": {
        "id": "peR9nytZyrWb",
        "colab_type": "code",
        "colab": {}
      },
      "source": [
        "def null_value(df,column):\n",
        "  null_values = len(df[~df[column].notna()])\n",
        "  print(f\"Column Name: '{column}'\")\n",
        "  print(f\"There are {null_values} NANS\")"
      ],
      "execution_count": 0,
      "outputs": []
    },
    {
      "cell_type": "code",
      "metadata": {
        "id": "8HusNdT4zNMD",
        "colab_type": "code",
        "outputId": "29aec3f0-e627-4f6f-8fd5-cebdf8c112c6",
        "colab": {
          "base_uri": "https://localhost:8080/",
          "height": 867
        }
      },
      "source": [
        "for i in range(len(Acquisition.columns)):\n",
        "  null_value(Acquisition,Acquisition.columns[i])"
      ],
      "execution_count": 0,
      "outputs": [
        {
          "output_type": "stream",
          "text": [
            "Column Name: 'LOAN_ID'\n",
            "There are 0 NANS\n",
            "Column Name: 'ORIG_CHN'\n",
            "There are 0 NANS\n",
            "Column Name: 'Seller.Name'\n",
            "There are 0 NANS\n",
            "Column Name: 'ORIG_RT'\n",
            "There are 0 NANS\n",
            "Column Name: 'ORIG_AMT'\n",
            "There are 0 NANS\n",
            "Column Name: 'ORIG_TRM'\n",
            "There are 0 NANS\n",
            "Column Name: 'ORIG_DTE'\n",
            "There are 0 NANS\n",
            "Column Name: 'FRST_DTE'\n",
            "There are 0 NANS\n",
            "Column Name: 'OLTV'\n",
            "There are 2 NANS\n",
            "Column Name: 'OCLTV'\n",
            "There are 245884 NANS\n",
            "Column Name: 'NUM_BO'\n",
            "There are 295 NANS\n",
            "Column Name: 'DTI'\n",
            "There are 10531 NANS\n",
            "Column Name: 'CSCORE_B'\n",
            "There are 5924 NANS\n",
            "Column Name: 'FTHB_FLG'\n",
            "There are 0 NANS\n",
            "Column Name: 'PURPOSE'\n",
            "There are 0 NANS\n",
            "Column Name: 'PROP_TYP'\n",
            "There are 0 NANS\n",
            "Column Name: 'NUM_UNIT'\n",
            "There are 0 NANS\n",
            "Column Name: 'OCC_STAT'\n",
            "There are 0 NANS\n",
            "Column Name: 'STATE'\n",
            "There are 0 NANS\n",
            "Column Name: 'ZIP_3'\n",
            "There are 0 NANS\n",
            "Column Name: 'MI_PCT'\n",
            "There are 165047 NANS\n",
            "Column Name: 'Product.Type'\n",
            "There are 0 NANS\n",
            "Column Name: 'CSCORE_C'\n",
            "There are 123529 NANS\n",
            "Column Name: 'MI_TYPE'\n",
            "There are 165047 NANS\n",
            "Column Name: 'RELOCATION_FLG'\n",
            "There are 0 NANS\n"
          ],
          "name": "stdout"
        }
      ]
    },
    {
      "cell_type": "code",
      "metadata": {
        "id": "gOY-xXRF9ZBk",
        "colab_type": "code",
        "outputId": "7e7923ca-181f-46b9-9aab-8c305fcd3416",
        "colab": {
          "base_uri": "https://localhost:8080/",
          "height": 1000
        }
      },
      "source": [
        "for i in range(len(performance.columns)):\n",
        "  null_value(performance,performance.columns[i])"
      ],
      "execution_count": 0,
      "outputs": [
        {
          "output_type": "stream",
          "text": [
            "Column Name: 'LOAN_ID'\n",
            "There are 0 NANS\n",
            "Column Name: 'Monthly.Rpt.Prd'\n",
            "There are 0 NANS\n",
            "Column Name: 'Servicer.Name'\n",
            "There are 4947390 NANS\n",
            "Column Name: 'LAST_RT'\n",
            "There are 0 NANS\n",
            "Column Name: 'LAST_UPB'\n",
            "There are 814028 NANS\n",
            "Column Name: 'Loan.Age'\n",
            "There are 0 NANS\n",
            "Column Name: 'Months.To.Legal.Mat'\n",
            "There are 3183 NANS\n",
            "Column Name: 'Adj.Month.To.Mat'\n",
            "There are 54304 NANS\n",
            "Column Name: 'Maturity.Date'\n",
            "There are 3183 NANS\n",
            "Column Name: 'MSA'\n",
            "There are 0 NANS\n",
            "Column Name: 'Delq.Status'\n",
            "There are 1873 NANS\n",
            "Column Name: 'MOD_FLAG'\n",
            "There are 1 NANS\n",
            "Column Name: 'Zero.Bal.Code'\n",
            "There are 4919474 NANS\n",
            "Column Name: 'ZB_DTE'\n",
            "There are 4919474 NANS\n",
            "Column Name: 'LPI_DTE'\n",
            "There are 5053304 NANS\n",
            "Column Name: 'FCC_DTE'\n",
            "There are 5053343 NANS\n",
            "Column Name: 'DISP_DT'\n",
            "There are 5053319 NANS\n",
            "Column Name: 'FCC_COST'\n",
            "There are 5053460 NANS\n",
            "Column Name: 'PP_COST'\n",
            "There are 5053716 NANS\n",
            "Column Name: 'AR_COST'\n",
            "There are 5054536 NANS\n",
            "Column Name: 'IE_COST'\n",
            "There are 5053618 NANS\n",
            "Column Name: 'TAX_COST'\n",
            "There are 5053749 NANS\n",
            "Column Name: 'NS_PROCS'\n",
            "There are 5053505 NANS\n",
            "Column Name: 'CE_PROCS'\n",
            "There are 5054405 NANS\n",
            "Column Name: 'RMW_PROCS'\n",
            "There are 5054974 NANS\n",
            "Column Name: 'O_PROCS'\n",
            "There are 5054294 NANS\n",
            "Column Name: 'NON_INT_UPB'\n",
            "There are 5022436 NANS\n",
            "Column Name: 'PRIN_FORG_UPB_FHFA'\n",
            "There are 5053652 NANS\n",
            "Column Name: 'REPCH_FLAG'\n",
            "There are 4919474 NANS\n",
            "Column Name: 'PRIN_FORG_UPB_OTH'\n",
            "There are 5055174 NANS\n",
            "Column Name: 'TRANSFER_FLG'\n",
            "There are 4593145 NANS\n"
          ],
          "name": "stdout"
        }
      ]
    }
  ]
}