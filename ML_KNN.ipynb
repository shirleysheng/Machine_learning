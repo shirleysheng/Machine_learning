{
  "nbformat": 4,
  "nbformat_minor": 0,
  "metadata": {
    "colab": {
      "name": "ML_KNN.ipynb",
      "provenance": [],
      "collapsed_sections": [],
      "authorship_tag": "ABX9TyM1CfPlgoaeMYoCNHDJfX/9",
      "include_colab_link": true
    },
    "kernelspec": {
      "name": "python3",
      "display_name": "Python 3"
    }
  },
  "cells": [
    {
      "cell_type": "markdown",
      "metadata": {
        "id": "view-in-github",
        "colab_type": "text"
      },
      "source": [
        "<a href=\"https://colab.research.google.com/github/shirleysheng/Machine_learning/blob/master/ML_KNN.ipynb\" target=\"_parent\"><img src=\"https://colab.research.google.com/assets/colab-badge.svg\" alt=\"Open In Colab\"/></a>"
      ]
    },
    {
      "cell_type": "code",
      "metadata": {
        "id": "HncSwZuXPL6E",
        "colab_type": "code",
        "colab": {}
      },
      "source": [
        "import pandas as pd\n",
        "import numpy as np\n",
        "from sklearn.model_selection import train_test_split\n",
        "from sklearn import neighbors"
      ],
      "execution_count": 0,
      "outputs": []
    },
    {
      "cell_type": "code",
      "metadata": {
        "id": "lx254SqgQfXj",
        "colab_type": "code",
        "colab": {}
      },
      "source": [
        "data_columns = ['id','thickness','cell_size','cell_shape','adhesion','single_cell_size','bare_nuclei','bland_chrom','norm','mitoses','class']\n",
        "df = pd.read_csv( '/content/breast-cancer-wisconsin.data.csv', header=None, names= data_columns )"
      ],
      "execution_count": 0,
      "outputs": []
    },
    {
      "cell_type": "code",
      "metadata": {
        "id": "o7Pxr6XIXm_Z",
        "colab_type": "code",
        "colab": {}
      },
      "source": [
        "df.replace('?',-99999,inplace=True)"
      ],
      "execution_count": 0,
      "outputs": []
    },
    {
      "cell_type": "code",
      "metadata": {
        "id": "BAi7yv2MX6hZ",
        "colab_type": "code",
        "colab": {}
      },
      "source": [
        "df.drop(['id'],1,inplace=True)\n"
      ],
      "execution_count": 0,
      "outputs": []
    },
    {
      "cell_type": "code",
      "metadata": {
        "id": "lUgXVS6Y5kXI",
        "colab_type": "code",
        "colab": {}
      },
      "source": [
        "data = df"
      ],
      "execution_count": 0,
      "outputs": []
    },
    {
      "cell_type": "code",
      "metadata": {
        "id": "AGhufYc29jtw",
        "colab_type": "code",
        "colab": {}
      },
      "source": [
        "X = np.array(data.drop(['class'],1))\n",
        "y = np.array(data['class'])"
      ],
      "execution_count": 0,
      "outputs": []
    },
    {
      "cell_type": "code",
      "metadata": {
        "id": "kul7JcfJhlbS",
        "colab_type": "code",
        "colab": {
          "base_uri": "https://localhost:8080/",
          "height": 34
        },
        "outputId": "654bdf23-56d1-4bb0-f086-db4f852b6e3e"
      },
      "source": [
        "X[0,:]\n"
      ],
      "execution_count": 7,
      "outputs": [
        {
          "output_type": "execute_result",
          "data": {
            "text/plain": [
              "array([5, 1, 1, 1, 2, '1', 3, 1, 1], dtype=object)"
            ]
          },
          "metadata": {
            "tags": []
          },
          "execution_count": 7
        }
      ]
    },
    {
      "cell_type": "code",
      "metadata": {
        "id": "FXd_Jgoz9jxu",
        "colab_type": "code",
        "colab": {}
      },
      "source": [
        "X_train,X_test, y_train, y_test = train_test_split(X,y, test_size = 0.2)"
      ],
      "execution_count": 0,
      "outputs": []
    },
    {
      "cell_type": "code",
      "metadata": {
        "id": "Df0G0gz69j0N",
        "colab_type": "code",
        "outputId": "2db4842b-ae48-4ec0-f0ad-84e8643e58ea",
        "colab": {
          "base_uri": "https://localhost:8080/",
          "height": 68
        }
      },
      "source": [
        "knn = neighbors.KNeighborsClassifier()\n",
        "knn.fit(X_train,y_train)"
      ],
      "execution_count": 9,
      "outputs": [
        {
          "output_type": "execute_result",
          "data": {
            "text/plain": [
              "KNeighborsClassifier(algorithm='auto', leaf_size=30, metric='minkowski',\n",
              "                     metric_params=None, n_jobs=None, n_neighbors=5, p=2,\n",
              "                     weights='uniform')"
            ]
          },
          "metadata": {
            "tags": []
          },
          "execution_count": 9
        }
      ]
    },
    {
      "cell_type": "code",
      "metadata": {
        "id": "eo8SUta7-vvC",
        "colab_type": "code",
        "colab": {}
      },
      "source": [
        "accuracy = knn.score(X_test,y_test)"
      ],
      "execution_count": 0,
      "outputs": []
    },
    {
      "cell_type": "code",
      "metadata": {
        "id": "8KOdooiL-65F",
        "colab_type": "code",
        "outputId": "c481f3c0-ce75-47ab-f8f5-505c87f815fc",
        "colab": {
          "base_uri": "https://localhost:8080/",
          "height": 34
        }
      },
      "source": [
        "print(accuracy)"
      ],
      "execution_count": 11,
      "outputs": [
        {
          "output_type": "stream",
          "text": [
            "0.9571428571428572\n"
          ],
          "name": "stdout"
        }
      ]
    },
    {
      "cell_type": "code",
      "metadata": {
        "id": "JTupfepx-8uE",
        "colab_type": "code",
        "colab": {}
      },
      "source": [
        "new_example = np.array([[3,2,1,4,2,2,1,2,1],[2,3,3,1,1,4,1,1,1]])"
      ],
      "execution_count": 0,
      "outputs": []
    },
    {
      "cell_type": "code",
      "metadata": {
        "id": "O02GkrT0_Z0k",
        "colab_type": "code",
        "colab": {}
      },
      "source": [
        "prediction = knn.predict(new_example)"
      ],
      "execution_count": 0,
      "outputs": []
    },
    {
      "cell_type": "code",
      "metadata": {
        "id": "pVI3GT0M_fQV",
        "colab_type": "code",
        "outputId": "2efaeee8-1e05-4d27-d01a-373492aba196",
        "colab": {
          "base_uri": "https://localhost:8080/",
          "height": 34
        }
      },
      "source": [
        "print(prediction)"
      ],
      "execution_count": 14,
      "outputs": [
        {
          "output_type": "stream",
          "text": [
            "[2 2]\n"
          ],
          "name": "stdout"
        }
      ]
    },
    {
      "cell_type": "markdown",
      "metadata": {
        "id": "tGpY6kGEAH2D",
        "colab_type": "text"
      },
      "source": [
        "------------------------------consider to build KNN algorithm by ourself and test it ------------------------------"
      ]
    },
    {
      "cell_type": "code",
      "metadata": {
        "id": "9kKuuUMSAPp3",
        "colab_type": "code",
        "colab": {}
      },
      "source": [
        "#since KNN algorithm is using the Euclidean Distance\n",
        "import warnings\n",
        "import random\n",
        "from collections import Counter"
      ],
      "execution_count": 0,
      "outputs": []
    },
    {
      "cell_type": "code",
      "metadata": {
        "id": "JNf-_VAWGmBJ",
        "colab_type": "code",
        "colab": {}
      },
      "source": [
        "def k_nearest_neighbor(dataset, predict, k):\n",
        "  if len(dataset) >= k:\n",
        "    warnings.warn('you should set a better k value!')\n",
        "  \n",
        "  distance = []\n",
        "  for group in dataset:\n",
        "      for feactures in dataset[group]:\n",
        "          euclidean_dis = np.linalg.norm(np.array(feactures) - np.array(predict)) #function for euclidean distance\n",
        "          distance.append([euclidean_dis,group])\n",
        "\n",
        "  votes = [i[1] for i in sorted(distance)[:k]]\n",
        "  result = Counter(votes).most_common(1)[0][0]\n",
        "  confidence = Counter(votes).most_common(1)[0][1]/float (k)\n",
        "\n",
        "  return result, confidence\n",
        "\n",
        "\n",
        "\n",
        "\n",
        "  "
      ],
      "execution_count": 0,
      "outputs": []
    },
    {
      "cell_type": "code",
      "metadata": {
        "id": "n3obSW8nI3zO",
        "colab_type": "code",
        "colab": {}
      },
      "source": [
        "full_data = data.astype(float).values.tolist() # or pd.read_csv('breast_cancer_wisconsin.csv', na_values='?', header=0).fillna(-99999).drop('id', axis=1) aviod string column\n"
      ],
      "execution_count": 0,
      "outputs": []
    },
    {
      "cell_type": "code",
      "metadata": {
        "id": "JW-6oB2_KmIF",
        "colab_type": "code",
        "colab": {}
      },
      "source": [
        "random.shuffle(full_data)"
      ],
      "execution_count": 0,
      "outputs": []
    },
    {
      "cell_type": "code",
      "metadata": {
        "id": "FRK8ls8G5vVP",
        "colab_type": "code",
        "outputId": "d3aca81e-8263-42dc-efef-d8230575754d",
        "colab": {
          "base_uri": "https://localhost:8080/",
          "height": 102
        }
      },
      "source": [
        "full_data[:5]"
      ],
      "execution_count": 19,
      "outputs": [
        {
          "output_type": "execute_result",
          "data": {
            "text/plain": [
              "[[3.0, 1.0, 1.0, 1.0, 2.0, 1.0, 2.0, 1.0, 1.0, 2.0],\n",
              " [1.0, 1.0, 1.0, 1.0, 2.0, 1.0, 3.0, 1.0, 1.0, 2.0],\n",
              " [10.0, 6.0, 3.0, 6.0, 4.0, 10.0, 7.0, 8.0, 4.0, 4.0],\n",
              " [6.0, 10.0, 10.0, 10.0, 8.0, 10.0, 10.0, 10.0, 7.0, 4.0],\n",
              " [4.0, 1.0, 1.0, 1.0, 2.0, 1.0, 1.0, 1.0, 1.0, 2.0]]"
            ]
          },
          "metadata": {
            "tags": []
          },
          "execution_count": 19
        }
      ]
    },
    {
      "cell_type": "code",
      "metadata": {
        "id": "kQKHrr10Kuzv",
        "colab_type": "code",
        "colab": {}
      },
      "source": [
        "train_set = {2:[], 4:[]}\n",
        "test_set = {2:[], 4:[]}\n",
        "test_size = 0.2\n",
        "train_data = full_data[:-int(test_size * len(full_data))]\n",
        "test_data = full_data[-int(test_size*len(full_data)):]\n"
      ],
      "execution_count": 0,
      "outputs": []
    },
    {
      "cell_type": "code",
      "metadata": {
        "id": "Wy8p-3Dd2chp",
        "colab_type": "code",
        "colab": {}
      },
      "source": [
        "for i in train_data:\n",
        "  train_set[i[-1]].append(i[:-1])"
      ],
      "execution_count": 0,
      "outputs": []
    },
    {
      "cell_type": "code",
      "metadata": {
        "id": "MH_-3KEz2sPm",
        "colab_type": "code",
        "colab": {}
      },
      "source": [
        "for i in test_data:\n",
        "  test_set[i[-1]].append(i[:-1])"
      ],
      "execution_count": 0,
      "outputs": []
    },
    {
      "cell_type": "code",
      "metadata": {
        "id": "X2HYg27W201Z",
        "colab_type": "code",
        "colab": {
          "base_uri": "https://localhost:8080/",
          "height": 85
        },
        "outputId": "d5c66099-0988-4695-d2ed-1a1cb975bde6"
      },
      "source": [
        "#caculate the accuracy of our own model\n",
        "correct = 0\n",
        "total = 0\n",
        "\n",
        "for group in test_set:\n",
        "  for data in test_set[group]:\n",
        "    vote, confidence = k_nearest_neighbor(train_set,data,k=5) #because the default k of sklearn knn is 5\n",
        "    if group == vote:\n",
        "      correct += 1\n",
        "    else:\n",
        "      print(confidence)\n",
        "    total += 1\n",
        "  "
      ],
      "execution_count": 23,
      "outputs": [
        {
          "output_type": "stream",
          "text": [
            "1.0\n",
            "0.6\n",
            "1.0\n",
            "0.8\n"
          ],
          "name": "stdout"
        }
      ]
    },
    {
      "cell_type": "code",
      "metadata": {
        "id": "A4wCZu2N4F_d",
        "colab_type": "code",
        "outputId": "cc2bffe5-55d9-47f6-dc29-557d37be3966",
        "colab": {
          "base_uri": "https://localhost:8080/",
          "height": 34
        }
      },
      "source": [
        "accuracy_own = correct/total\n",
        "print(accuracy_own)"
      ],
      "execution_count": 24,
      "outputs": [
        {
          "output_type": "stream",
          "text": [
            "0.9712230215827338\n"
          ],
          "name": "stdout"
        }
      ]
    }
  ]
}